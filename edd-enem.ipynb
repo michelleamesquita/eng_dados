{
 "cells": [
  {
   "cell_type": "markdown",
   "id": "e823d32f-503e-4ca8-a1bb-a6ecd6b119b8",
   "metadata": {},
   "source": [
    "# Trabalhando dados ENEM 2020"
   ]
  },
  {
   "cell_type": "code",
   "execution_count": 2,
   "id": "462cbfa2-80c7-4c5c-a0a6-68db3e641385",
   "metadata": {},
   "outputs": [],
   "source": [
    "import zipfile\n",
    "import requests\n",
    "from io import BytesIO\n",
    "import os"
   ]
  },
  {
   "cell_type": "code",
   "execution_count": 6,
   "id": "b1acc180-b12f-4417-a77d-69e679e4403c",
   "metadata": {},
   "outputs": [
    {
     "name": "stdout",
     "output_type": "stream",
     "text": [
      "CPU times: user 28.5 s, sys: 11.2 s, total: 39.7 s\n",
      "Wall time: 4min 5s\n"
     ]
    }
   ],
   "source": [
    "%%time\n",
    "\n",
    "url = \"https://download.inep.gov.br/microdados/microdados_enem_2020.zip\"\n",
    "\n",
    "os.makedirs(\"./enem2020\", exist_ok=True)\n",
    "filebytes = BytesIO(requests.get(url,stream=True).content)\n",
    "\n",
    "myzip= zipfile.ZipFile(filebytes)\n",
    "myzip.extractall(\"./enem2020\")"
   ]
  },
  {
   "cell_type": "markdown",
   "id": "b8bc10de-aba9-4025-81fd-bb3b826a945c",
   "metadata": {},
   "source": [
    "# Trabalhando com PySpark"
   ]
  },
  {
   "cell_type": "code",
   "execution_count": 7,
   "id": "68d687e1-25db-4b66-a9a9-b3ebeb5ab0c4",
   "metadata": {},
   "outputs": [
    {
     "name": "stdout",
     "output_type": "stream",
     "text": [
      "Collecting pyspark\n",
      "  Downloading pyspark-3.2.1.tar.gz (281.4 MB)\n",
      "\u001b[K     |████████████████████████████████| 281.4 MB 78 kB/s s eta 0:00:01    |███▊                            | 32.3 MB 6.0 MB/s eta 0:00:42                        | 43.4 MB 27.1 MB/s eta 0:00:09     |██████████▊                     | 94.6 MB 20.7 MB/s eta 0:00:10     |███████████▍                    | 99.8 MB 9.2 MB/s eta 0:00:20     |██████████████▎                 | 125.3 MB 4.0 MB/s eta 0:00:40     |██████████████▊                 | 129.6 MB 4.0 MB/s eta 0:00:39     |██████████████▊                 | 129.6 MB 4.0 MB/s eta 0:00:39     |███████████████                 | 131.7 MB 4.0 MB/s eta 0:00:38     |███████████████                 | 132.3 MB 4.0 MB/s eta 0:00:38.2 MB 850 kB/s eta 0:02:51| 142.2 MB 850 kB/s eta 0:02:44██▌               | 145.0 MB 12.4 MB/s eta 0:00:117 MB 13.0 MB/s eta 0:00:08     |█████████████████████▍          | 187.8 MB 799 kB/s eta 0:01:58     |██████████████████████          | 192.6 MB 799 kB/s eta 0:01:51     |███████████████████████████▎    | 240.1 MB 14.0 MB/s eta 0:00:03     |██████████████████████████████  | 263.2 MB 10.6 MB/s eta 0:00:02     |██████████████████████████████▍ | 267.5 MB 15.0 MB/s eta 0:00:01     |████████████████████████████████| 280.7 MB 28.3 MB/s eta 0:00:01��██████████████| 280.8 MB 28.3 MB/s eta 0:00:01\n",
      "\u001b[?25hCollecting py4j==0.10.9.3\n",
      "  Downloading py4j-0.10.9.3-py2.py3-none-any.whl (198 kB)\n",
      "\u001b[K     |████████████████████████████████| 198 kB 10.1 MB/s eta 0:00:01\n",
      "\u001b[?25hBuilding wheels for collected packages: pyspark\n",
      "  Building wheel for pyspark (setup.py) ... \u001b[?25ldone\n",
      "\u001b[?25h  Created wheel for pyspark: filename=pyspark-3.2.1-py2.py3-none-any.whl size=281853646 sha256=997c93d966d69a6a29d5da1e6b597d3087a890b4199199427fba115da1da8e37\n",
      "  Stored in directory: /Users/michellemesquita/Library/Caches/pip/wheels/52/45/50/69db7b6e1da74a1b9fcc097827db9185cb8627117de852731e\n",
      "Successfully built pyspark\n",
      "Installing collected packages: py4j, pyspark\n",
      "Successfully installed py4j-0.10.9.3 pyspark-3.2.1\n",
      "Note: you may need to restart the kernel to use updated packages.\n"
     ]
    }
   ],
   "source": [
    "pip install pyspark"
   ]
  },
  {
   "cell_type": "code",
   "execution_count": 8,
   "id": "a735d7f5-5634-4d52-8876-ee0c63839f4a",
   "metadata": {},
   "outputs": [],
   "source": [
    "from pyspark.sql import SparkSession\n",
    "from pyspark.sql import functions as f"
   ]
  },
  {
   "cell_type": "code",
   "execution_count": 9,
   "id": "98c726cb-0fc0-4654-8e27-e59e08a8b224",
   "metadata": {},
   "outputs": [
    {
     "name": "stderr",
     "output_type": "stream",
     "text": [
      "22/03/27 21:24:14 WARN Utils: Your hostname, MacBook-de-Michelle.local resolves to a loopback address: 127.0.0.1; using 10.0.1.7 instead (on interface en0)\n",
      "22/03/27 21:24:14 WARN Utils: Set SPARK_LOCAL_IP if you need to bind to another address\n",
      "Using Spark's default log4j profile: org/apache/spark/log4j-defaults.properties\n",
      "Setting default log level to \"WARN\".\n",
      "To adjust logging level use sc.setLogLevel(newLevel). For SparkR, use setLogLevel(newLevel).\n",
      "22/03/27 21:24:15 WARN NativeCodeLoader: Unable to load native-hadoop library for your platform... using builtin-java classes where applicable\n"
     ]
    }
   ],
   "source": [
    "spark = SparkSession.builder.appName(\"ENEMTeste\").getOrCreate()"
   ]
  },
  {
   "cell_type": "code",
   "execution_count": 10,
   "id": "341d0c31-b4a4-4732-a6bf-036252366d4a",
   "metadata": {},
   "outputs": [
    {
     "name": "stderr",
     "output_type": "stream",
     "text": [
      "                                                                                \r"
     ]
    }
   ],
   "source": [
    "# leitura dos dados\n",
    "\n",
    "enem = (\n",
    "spark.\n",
    "    read\n",
    "    .format('csv')\n",
    "    .options(header=True,sep=';',encoding='latin1',inferSchema=True)\n",
    "    .load(\"enem2020/DADOS/MICRODADOS_ENEM_2020.csv\")\n",
    "    \n",
    ")"
   ]
  },
  {
   "cell_type": "code",
   "execution_count": 11,
   "id": "f2be360c-003f-4105-a019-b8a2615cbb1b",
   "metadata": {},
   "outputs": [
    {
     "name": "stdout",
     "output_type": "stream",
     "text": [
      "root\n",
      " |-- NU_INSCRICAO: long (nullable = true)\n",
      " |-- NU_ANO: integer (nullable = true)\n",
      " |-- TP_FAIXA_ETARIA: integer (nullable = true)\n",
      " |-- TP_SEXO: string (nullable = true)\n",
      " |-- TP_ESTADO_CIVIL: integer (nullable = true)\n",
      " |-- TP_COR_RACA: integer (nullable = true)\n",
      " |-- TP_NACIONALIDADE: integer (nullable = true)\n",
      " |-- TP_ST_CONCLUSAO: integer (nullable = true)\n",
      " |-- TP_ANO_CONCLUIU: integer (nullable = true)\n",
      " |-- TP_ESCOLA: integer (nullable = true)\n",
      " |-- TP_ENSINO: integer (nullable = true)\n",
      " |-- IN_TREINEIRO: integer (nullable = true)\n",
      " |-- CO_MUNICIPIO_ESC: integer (nullable = true)\n",
      " |-- NO_MUNICIPIO_ESC: string (nullable = true)\n",
      " |-- CO_UF_ESC: integer (nullable = true)\n",
      " |-- SG_UF_ESC: string (nullable = true)\n",
      " |-- TP_DEPENDENCIA_ADM_ESC: integer (nullable = true)\n",
      " |-- TP_LOCALIZACAO_ESC: integer (nullable = true)\n",
      " |-- TP_SIT_FUNC_ESC: integer (nullable = true)\n",
      " |-- CO_MUNICIPIO_PROVA: integer (nullable = true)\n",
      " |-- NO_MUNICIPIO_PROVA: string (nullable = true)\n",
      " |-- CO_UF_PROVA: integer (nullable = true)\n",
      " |-- SG_UF_PROVA: string (nullable = true)\n",
      " |-- TP_PRESENCA_CN: integer (nullable = true)\n",
      " |-- TP_PRESENCA_CH: integer (nullable = true)\n",
      " |-- TP_PRESENCA_LC: integer (nullable = true)\n",
      " |-- TP_PRESENCA_MT: integer (nullable = true)\n",
      " |-- CO_PROVA_CN: integer (nullable = true)\n",
      " |-- CO_PROVA_CH: integer (nullable = true)\n",
      " |-- CO_PROVA_LC: integer (nullable = true)\n",
      " |-- CO_PROVA_MT: integer (nullable = true)\n",
      " |-- NU_NOTA_CN: double (nullable = true)\n",
      " |-- NU_NOTA_CH: double (nullable = true)\n",
      " |-- NU_NOTA_LC: double (nullable = true)\n",
      " |-- NU_NOTA_MT: double (nullable = true)\n",
      " |-- TX_RESPOSTAS_CN: string (nullable = true)\n",
      " |-- TX_RESPOSTAS_CH: string (nullable = true)\n",
      " |-- TX_RESPOSTAS_LC: string (nullable = true)\n",
      " |-- TX_RESPOSTAS_MT: string (nullable = true)\n",
      " |-- TP_LINGUA: integer (nullable = true)\n",
      " |-- TX_GABARITO_CN: string (nullable = true)\n",
      " |-- TX_GABARITO_CH: string (nullable = true)\n",
      " |-- TX_GABARITO_LC: string (nullable = true)\n",
      " |-- TX_GABARITO_MT: string (nullable = true)\n",
      " |-- TP_STATUS_REDACAO: integer (nullable = true)\n",
      " |-- NU_NOTA_COMP1: integer (nullable = true)\n",
      " |-- NU_NOTA_COMP2: integer (nullable = true)\n",
      " |-- NU_NOTA_COMP3: integer (nullable = true)\n",
      " |-- NU_NOTA_COMP4: integer (nullable = true)\n",
      " |-- NU_NOTA_COMP5: integer (nullable = true)\n",
      " |-- NU_NOTA_REDACAO: integer (nullable = true)\n",
      " |-- Q001: string (nullable = true)\n",
      " |-- Q002: string (nullable = true)\n",
      " |-- Q003: string (nullable = true)\n",
      " |-- Q004: string (nullable = true)\n",
      " |-- Q005: integer (nullable = true)\n",
      " |-- Q006: string (nullable = true)\n",
      " |-- Q007: string (nullable = true)\n",
      " |-- Q008: string (nullable = true)\n",
      " |-- Q009: string (nullable = true)\n",
      " |-- Q010: string (nullable = true)\n",
      " |-- Q011: string (nullable = true)\n",
      " |-- Q012: string (nullable = true)\n",
      " |-- Q013: string (nullable = true)\n",
      " |-- Q014: string (nullable = true)\n",
      " |-- Q015: string (nullable = true)\n",
      " |-- Q016: string (nullable = true)\n",
      " |-- Q017: string (nullable = true)\n",
      " |-- Q018: string (nullable = true)\n",
      " |-- Q019: string (nullable = true)\n",
      " |-- Q020: string (nullable = true)\n",
      " |-- Q021: string (nullable = true)\n",
      " |-- Q022: string (nullable = true)\n",
      " |-- Q023: string (nullable = true)\n",
      " |-- Q024: string (nullable = true)\n",
      " |-- Q025: string (nullable = true)\n",
      "\n"
     ]
    }
   ],
   "source": [
    "enem.printSchema()"
   ]
  },
  {
   "cell_type": "code",
   "execution_count": 12,
   "id": "a0f6fcdc-07f8-4ba1-a3e0-923dceaa5207",
   "metadata": {},
   "outputs": [
    {
     "name": "stderr",
     "output_type": "stream",
     "text": [
      "                                                                                \r"
     ]
    },
    {
     "data": {
      "text/plain": [
       "5783109"
      ]
     },
     "execution_count": 12,
     "metadata": {},
     "output_type": "execute_result"
    }
   ],
   "source": [
    "enem.count()"
   ]
  },
  {
   "cell_type": "code",
   "execution_count": 13,
   "id": "53920f3c-493b-4253-bbc9-76d40a9c50ae",
   "metadata": {},
   "outputs": [
    {
     "name": "stderr",
     "output_type": "stream",
     "text": [
      "[Stage 5:=================================================>       (14 + 2) / 16]\r"
     ]
    },
    {
     "name": "stdout",
     "output_type": "stream",
     "text": [
      "+-------+-------+\n",
      "|TP_SEXO|  count|\n",
      "+-------+-------+\n",
      "|      F|3468805|\n",
      "|      M|2314304|\n",
      "+-------+-------+\n",
      "\n"
     ]
    },
    {
     "name": "stderr",
     "output_type": "stream",
     "text": [
      "                                                                                \r"
     ]
    }
   ],
   "source": [
    "enem.groupBy('TP_SEXO').count().show()"
   ]
  },
  {
   "cell_type": "code",
   "execution_count": 15,
   "id": "5025ed8a-986c-4d3c-b053-c9f9f95a97e5",
   "metadata": {},
   "outputs": [
    {
     "name": "stderr",
     "output_type": "stream",
     "text": [
      "[Stage 8:=====================================================>   (15 + 1) / 16]\r"
     ]
    },
    {
     "name": "stdout",
     "output_type": "stream",
     "text": [
      "+-------+-----------------------+------------------------------------+------------------+\n",
      "|TP_SEXO|NO_MUNICIPIO_ESC       |round(avg(NU_NOTA_MT) AS med_mat, 0)|med_ch            |\n",
      "+-------+-----------------------+------------------------------------+------------------+\n",
      "|M      |Santana de Parnaíba    |582.0                               |538.4227272727272 |\n",
      "|M      |Ponte Nova             |615.0                               |560.0272727272727 |\n",
      "|M      |Lajedo                 |554.0                               |507.2876543209876 |\n",
      "|F      |Taquaritinga           |542.0                               |519.6766990291262 |\n",
      "|M      |São Gonçalo do Amarante|527.0                               |491.9927953890491 |\n",
      "|M      |Sacramento             |632.0                               |585.35            |\n",
      "|F      |Ubaitaba               |488.0                               |519.045           |\n",
      "|F      |Caldas Novas           |497.0                               |493.00059171597627|\n",
      "|F      |Diamante               |450.0                               |420.63571428571424|\n",
      "|M      |Suzano                 |590.0                               |542.0090909090908 |\n",
      "|F      |Barreiros              |477.0                               |466.71000000000004|\n",
      "|F      |Nazário                |455.0                               |461.11666666666673|\n",
      "|F      |Mandaguari             |497.0                               |512.1638888888889 |\n",
      "|F      |Cruzeiro do Oeste      |488.0                               |456.59375         |\n",
      "|M      |Riolândia              |671.0                               |574.5             |\n",
      "|F      |Cravinhos              |519.0                               |499.7173913043478 |\n",
      "|F      |Jatobá do Piauí        |449.0                               |447.75            |\n",
      "|M      |Guaporé                |622.0                               |566.0545454545455 |\n",
      "|F      |Porto da Folha         |438.0                               |427.38461538461536|\n",
      "|F      |São José das Missões   |430.0                               |430.9             |\n",
      "+-------+-----------------------+------------------------------------+------------------+\n",
      "only showing top 20 rows\n",
      "\n",
      "CPU times: user 25.6 ms, sys: 12.2 ms, total: 37.8 ms\n",
      "Wall time: 20.6 s\n"
     ]
    },
    {
     "name": "stderr",
     "output_type": "stream",
     "text": [
      "                                                                                \r"
     ]
    }
   ],
   "source": [
    "%%time\n",
    "\n",
    "(\n",
    "    enem\n",
    "    .groupBy('TP_SEXO','NO_MUNICIPIO_ESC')\n",
    "    .agg(\n",
    "        f.round(f.mean('NU_NOTA_MT').alias(\"med_mat\")),\n",
    "        f.mean(\"NU_NOTA_CH\").alias(\"med_ch\")\n",
    "    )\n",
    "    .show(truncate=False)\n",
    "\n",
    ")"
   ]
  },
  {
   "cell_type": "code",
   "execution_count": 16,
   "id": "06031dac-07ae-49bb-a589-02e85018b221",
   "metadata": {},
   "outputs": [
    {
     "name": "stderr",
     "output_type": "stream",
     "text": [
      "22/03/27 21:26:34 WARN package: Truncated the string representation of a plan since it was too large. This behavior can be adjusted by setting 'spark.sql.debug.maxToStringFields'.\n"
     ]
    }
   ],
   "source": [
    "enem.createOrReplaceTempView('enem')"
   ]
  },
  {
   "cell_type": "code",
   "execution_count": 17,
   "id": "fabddb54-16c5-4780-8e23-9b4d2035970e",
   "metadata": {},
   "outputs": [
    {
     "name": "stderr",
     "output_type": "stream",
     "text": [
      "[Stage 11:====================================================>   (15 + 1) / 16]\r"
     ]
    },
    {
     "name": "stdout",
     "output_type": "stream",
     "text": [
      "+-------+-----------------------+------------------+------------------+\n",
      "|TP_SEXO|NO_MUNICIPIO_ESC       |med_mat           |med_ch            |\n",
      "+-------+-----------------------+------------------+------------------+\n",
      "|M      |Santana de Parnaíba    |582.4966183574879 |538.4227272727272 |\n",
      "|M      |Ponte Nova             |615.2194805194805 |560.0272727272727 |\n",
      "|M      |Lajedo                 |553.8636363636363 |507.2876543209876 |\n",
      "|F      |Taquaritinga           |541.678947368421  |519.6766990291262 |\n",
      "|M      |São Gonçalo do Amarante|527.3186119873815 |491.9927953890491 |\n",
      "|M      |Sacramento             |631.8176470588236 |585.35            |\n",
      "|F      |Ubaitaba               |488.1578947368422 |519.045           |\n",
      "|F      |Caldas Novas           |496.7033112582781 |493.00059171597627|\n",
      "|F      |Diamante               |449.52142857142866|420.63571428571424|\n",
      "|M      |Suzano                 |590.2323119777159 |542.0090909090908 |\n",
      "|F      |Barreiros              |477.1842105263158 |466.71000000000004|\n",
      "|F      |Nazário                |454.97272727272735|461.11666666666673|\n",
      "|F      |Mandaguari             |496.614705882353  |512.1638888888889 |\n",
      "|F      |Cruzeiro do Oeste      |487.79999999999995|456.59375         |\n",
      "|M      |Riolândia              |671.15            |574.5             |\n",
      "|F      |Cravinhos              |518.905           |499.7173913043478 |\n",
      "|F      |Jatobá do Piauí        |448.78000000000003|447.75            |\n",
      "|M      |Guaporé                |622.1428571428572 |566.0545454545455 |\n",
      "|F      |Porto da Folha         |437.92777777777775|427.38461538461536|\n",
      "|F      |São José das Missões   |430.3             |430.9             |\n",
      "+-------+-----------------------+------------------+------------------+\n",
      "only showing top 20 rows\n",
      "\n"
     ]
    },
    {
     "name": "stderr",
     "output_type": "stream",
     "text": [
      "                                                                                \r"
     ]
    }
   ],
   "source": [
    "spark.sql(\"\"\"\n",
    "\n",
    "SELECT TP_SEXO,NO_MUNICIPIO_ESC,AVG(NU_NOTA_MT) as med_mat,AVG(NU_NOTA_CH) as med_ch from enem GROUP BY TP_SEXO,NO_MUNICIPIO_ESC \n",
    "\n",
    "\"\"\").show(truncate=False)"
   ]
  },
  {
   "cell_type": "code",
   "execution_count": 18,
   "id": "ea37f395-8e68-4816-85ac-c05fdcaab694",
   "metadata": {},
   "outputs": [
    {
     "name": "stderr",
     "output_type": "stream",
     "text": [
      "[Stage 14:=================================================>      (14 + 2) / 16]\r"
     ]
    },
    {
     "name": "stdout",
     "output_type": "stream",
     "text": [
      "+-------+-----------+-------+-------+-----------------+------------------+\n",
      "|TP_SEXO|TP_COR_RACA|min_mat|max_mat|med_mt           |stddev_mt         |\n",
      "+-------+-----------+-------+-------+-----------------+------------------+\n",
      "|F      |3          |331.2  |872.5  |545.1703933747413|108.93319364475533|\n",
      "|F      |2          |327.5  |862.0  |521.8843373493977|111.72755460944609|\n",
      "|M      |2          |361.6  |734.3  |569.4217948717949|95.55694793177153 |\n",
      "|F      |4          |368.7  |885.7  |611.4232558139535|123.38595369997122|\n",
      "|M      |3          |327.4  |958.8  |582.1167770419427|111.45622471465045|\n",
      "|M      |4          |386.1  |944.3  |676.640909090909 |126.25251373250444|\n",
      "|M      |1          |0.0    |975.0  |634.6792881646655|120.30423369189846|\n",
      "|F      |0          |378.7  |821.1  |550.9270833333334|97.23770991549486 |\n",
      "|F      |1          |330.3  |959.9  |589.3043097151206|117.40564185103207|\n",
      "|M      |0          |380.0  |882.8  |610.16           |149.40504446083747|\n",
      "|F      |5          |467.7  |603.4  |527.4833333333332|50.647464563062435|\n",
      "|M      |5          |332.5  |401.8  |378.6666666666667|39.98153740582437 |\n",
      "+-------+-----------+-------+-------+-----------------+------------------+\n",
      "\n"
     ]
    },
    {
     "name": "stderr",
     "output_type": "stream",
     "text": [
      "                                                                                \r"
     ]
    }
   ],
   "source": [
    "(\n",
    "    enem\n",
    "    .where(\"TP_ESTADO_CIVIL = 1 AND NO_MUNICIPIO_ESC = 'Curitiba'\")\n",
    "    .groupBy('TP_SEXO','TP_COR_RACA')\n",
    "    .agg(\n",
    "        f.min('NU_NOTA_MT').alias(\"min_mat\"),\n",
    "        f.max('NU_NOTA_MT').alias(\"max_mat\"),\n",
    "        f.mean(\"NU_NOTA_MT\").alias(\"med_mt\"),\n",
    "        f.stddev(\"NU_NOTA_MT\").alias(\"stddev_mt\")\n",
    "    )\n",
    "    .show(truncate=False)\n",
    "\n",
    ")"
   ]
  },
  {
   "cell_type": "code",
   "execution_count": 23,
   "id": "f9324977-9937-4d8e-962a-1752fe9c8d36",
   "metadata": {},
   "outputs": [
    {
     "data": {
      "text/plain": [
       "[Row(NU_INSCRICAO=200006271946, NU_ANO=2020, TP_FAIXA_ETARIA=11, TP_SEXO='F', TP_ESTADO_CIVIL=1, TP_COR_RACA=2, TP_NACIONALIDADE=1, TP_ST_CONCLUSAO=1, TP_ANO_CONCLUIU=11, TP_ESCOLA=1, TP_ENSINO=None, IN_TREINEIRO=0, CO_MUNICIPIO_ESC=None, NO_MUNICIPIO_ESC=None, CO_UF_ESC=None, SG_UF_ESC=None, TP_DEPENDENCIA_ADM_ESC=None, TP_LOCALIZACAO_ESC=None, TP_SIT_FUNC_ESC=None, CO_MUNICIPIO_PROVA=1501402, NO_MUNICIPIO_PROVA='Belém', CO_UF_PROVA=15, SG_UF_PROVA='PA', TP_PRESENCA_CN=0, TP_PRESENCA_CH=0, TP_PRESENCA_LC=0, TP_PRESENCA_MT=0, CO_PROVA_CN=None, CO_PROVA_CH=None, CO_PROVA_LC=None, CO_PROVA_MT=None, NU_NOTA_CN=None, NU_NOTA_CH=None, NU_NOTA_LC=None, NU_NOTA_MT=None, TX_RESPOSTAS_CN=None, TX_RESPOSTAS_CH=None, TX_RESPOSTAS_LC=None, TX_RESPOSTAS_MT=None, TP_LINGUA=1, TX_GABARITO_CN=None, TX_GABARITO_CH=None, TX_GABARITO_LC=None, TX_GABARITO_MT=None, TP_STATUS_REDACAO=None, NU_NOTA_COMP1=None, NU_NOTA_COMP2=None, NU_NOTA_COMP3=None, NU_NOTA_COMP4=None, NU_NOTA_COMP5=None, NU_NOTA_REDACAO=None, Q001=None, Q002=None, Q003=None, Q004=None, Q005=None, Q006=None, Q007=None, Q008=None, Q009=None, Q010=None, Q011=None, Q012=None, Q013=None, Q014=None, Q015=None, Q016=None, Q017=None, Q018=None, Q019=None, Q020=None, Q021=None, Q022=None, Q023=None, Q024=None, Q025=None),\n",
       " Row(NU_INSCRICAO=200001195856, NU_ANO=2020, TP_FAIXA_ETARIA=11, TP_SEXO='M', TP_ESTADO_CIVIL=2, TP_COR_RACA=3, TP_NACIONALIDADE=1, TP_ST_CONCLUSAO=1, TP_ANO_CONCLUIU=11, TP_ESCOLA=1, TP_ENSINO=None, IN_TREINEIRO=0, CO_MUNICIPIO_ESC=None, NO_MUNICIPIO_ESC=None, CO_UF_ESC=None, SG_UF_ESC=None, TP_DEPENDENCIA_ADM_ESC=None, TP_LOCALIZACAO_ESC=None, TP_SIT_FUNC_ESC=None, CO_MUNICIPIO_PROVA=2408102, NO_MUNICIPIO_PROVA='Natal', CO_UF_PROVA=24, SG_UF_PROVA='RN', TP_PRESENCA_CN=1, TP_PRESENCA_CH=1, TP_PRESENCA_LC=1, TP_PRESENCA_MT=1, CO_PROVA_CN=702, CO_PROVA_CH=689, CO_PROVA_LC=693, CO_PROVA_MT=698, NU_NOTA_CN=604.1, NU_NOTA_CH=661.7, NU_NOTA_LC=595.3, NU_NOTA_MT=711.3, TX_RESPOSTAS_CN='BCBDBDCCCDBDDBADEEACEEAECBECCDBCACDEBEECEBAAE', TX_RESPOSTAS_CH='BCAECABCDCEBDBBBDAABABACBCDDDBDDBABDAADACACBC', TX_RESPOSTAS_LC='99999CADDEDADBAABEAADAAAADCADAABDCCBEECAEECAACBBEB', TX_RESPOSTAS_MT='EBEBDEDAECBADCADDABACAEDBEEEAEADCCBCEACDACEBB', TP_LINGUA=1, TX_GABARITO_CN='ABBACBCCCDDDDBAEEBECEDACABDCBEDAECDABECCBBADE', TX_GABARITO_CH='BCEECDBCCDEBDBBBBEAAAEACBCDDDBDDBABDABDDBAABC', TX_GABARITO_LC='99999CBDDEDBDBACECABAAAEAECCDCABCBBBBEEDCECAAEBDEB', TX_GABARITO_MT='BBEADECAECBBXCEBADBACAEDACEDADAADCBCCBBDABBEE', TP_STATUS_REDACAO=1, NU_NOTA_COMP1=120, NU_NOTA_COMP2=120, NU_NOTA_COMP3=120, NU_NOTA_COMP4=120, NU_NOTA_COMP5=100, NU_NOTA_REDACAO=580, Q001=None, Q002=None, Q003=None, Q004=None, Q005=None, Q006=None, Q007=None, Q008=None, Q009=None, Q010=None, Q011=None, Q012=None, Q013=None, Q014=None, Q015=None, Q016=None, Q017=None, Q018=None, Q019=None, Q020=None, Q021=None, Q022=None, Q023=None, Q024=None, Q025=None),\n",
       " Row(NU_INSCRICAO=200001943954, NU_ANO=2020, TP_FAIXA_ETARIA=4, TP_SEXO='F', TP_ESTADO_CIVIL=2, TP_COR_RACA=3, TP_NACIONALIDADE=2, TP_ST_CONCLUSAO=2, TP_ANO_CONCLUIU=0, TP_ESCOLA=2, TP_ENSINO=1, IN_TREINEIRO=0, CO_MUNICIPIO_ESC=2927408, NO_MUNICIPIO_ESC='Salvador', CO_UF_ESC=29, SG_UF_ESC='BA', TP_DEPENDENCIA_ADM_ESC=2, TP_LOCALIZACAO_ESC=1, TP_SIT_FUNC_ESC=1, CO_MUNICIPIO_PROVA=2927408, NO_MUNICIPIO_PROVA='Salvador', CO_UF_PROVA=29, SG_UF_PROVA='BA', TP_PRESENCA_CN=0, TP_PRESENCA_CH=0, TP_PRESENCA_LC=0, TP_PRESENCA_MT=0, CO_PROVA_CN=None, CO_PROVA_CH=None, CO_PROVA_LC=None, CO_PROVA_MT=None, NU_NOTA_CN=None, NU_NOTA_CH=None, NU_NOTA_LC=None, NU_NOTA_MT=None, TX_RESPOSTAS_CN=None, TX_RESPOSTAS_CH=None, TX_RESPOSTAS_LC=None, TX_RESPOSTAS_MT=None, TP_LINGUA=0, TX_GABARITO_CN=None, TX_GABARITO_CH=None, TX_GABARITO_LC=None, TX_GABARITO_MT=None, TP_STATUS_REDACAO=None, NU_NOTA_COMP1=None, NU_NOTA_COMP2=None, NU_NOTA_COMP3=None, NU_NOTA_COMP4=None, NU_NOTA_COMP5=None, NU_NOTA_REDACAO=None, Q001='B', Q002='C', Q003='A', Q004='D', Q005=3, Q006='B', Q007='A', Q008='B', Q009='A', Q010='A', Q011='A', Q012='B', Q013='A', Q014='B', Q015='A', Q016='B', Q017='A', Q018='A', Q019='B', Q020='A', Q021='A', Q022='A', Q023='A', Q024='A', Q025='A'),\n",
       " Row(NU_INSCRICAO=200001908998, NU_ANO=2020, TP_FAIXA_ETARIA=2, TP_SEXO='M', TP_ESTADO_CIVIL=1, TP_COR_RACA=3, TP_NACIONALIDADE=1, TP_ST_CONCLUSAO=2, TP_ANO_CONCLUIU=0, TP_ESCOLA=2, TP_ENSINO=1, IN_TREINEIRO=0, CO_MUNICIPIO_ESC=3547304, NO_MUNICIPIO_ESC='Santana de Parnaíba', CO_UF_ESC=35, SG_UF_ESC='SP', TP_DEPENDENCIA_ADM_ESC=3, TP_LOCALIZACAO_ESC=1, TP_SIT_FUNC_ESC=1, CO_MUNICIPIO_PROVA=3547304, NO_MUNICIPIO_PROVA='Santana de Parnaíba', CO_UF_PROVA=35, SG_UF_PROVA='SP', TP_PRESENCA_CN=1, TP_PRESENCA_CH=1, TP_PRESENCA_LC=1, TP_PRESENCA_MT=1, CO_PROVA_CN=700, CO_PROVA_CH=688, CO_PROVA_LC=692, CO_PROVA_MT=696, NU_NOTA_CN=620.8, NU_NOTA_CH=675.0, NU_NOTA_LC=624.2, NU_NOTA_MT=759.4, TX_RESPOSTAS_CN='EBEDCCCDCBDBAECAECCECEACCBAABBBCEABCAAAEBEBAE', TX_RESPOSTAS_CH='DABCCACCBCCDCADBDCBAAEBDDBAABDBAEBEBBABDABDBE', TX_RESPOSTAS_LC='DCEAB99999AADAECCEBCDDDCBABDDABBCEEBAEDDDADEBECEDB', TX_RESPOSTAS_MT='CBDBDCCDDEECBAABBBADEDEDBECDEBBADAEBAABBECBBA', TP_LINGUA=0, TX_GABARITO_CN='BDECCACBEBDEAEDAECCBAEABCCEADDBBCADCBDDEBDBAC', TX_GABARITO_CH='DABCCAECBABECADBDCCABDBCDDAABDBAEBEBBDBDDBDBE', TX_GABARITO_LC='DCEAD99999AADACCCCBBDDCABAECAABBEECBAEDDBBEEBECEAB', TX_GABARITO_MT='EBDBXCCDAEECBAABABAEDDEDAECBCDCADEEBBABBACBCA', TP_STATUS_REDACAO=1, NU_NOTA_COMP1=140, NU_NOTA_COMP2=200, NU_NOTA_COMP3=140, NU_NOTA_COMP4=120, NU_NOTA_COMP5=160, NU_NOTA_REDACAO=760, Q001=None, Q002=None, Q003=None, Q004=None, Q005=None, Q006=None, Q007=None, Q008=None, Q009=None, Q010=None, Q011=None, Q012=None, Q013=None, Q014=None, Q015=None, Q016=None, Q017=None, Q018=None, Q019=None, Q020=None, Q021=None, Q022=None, Q023=None, Q024=None, Q025=None),\n",
       " Row(NU_INSCRICAO=200001634757, NU_ANO=2020, TP_FAIXA_ETARIA=4, TP_SEXO='F', TP_ESTADO_CIVIL=1, TP_COR_RACA=3, TP_NACIONALIDADE=2, TP_ST_CONCLUSAO=1, TP_ANO_CONCLUIU=1, TP_ESCOLA=1, TP_ENSINO=None, IN_TREINEIRO=0, CO_MUNICIPIO_ESC=None, NO_MUNICIPIO_ESC=None, CO_UF_ESC=None, SG_UF_ESC=None, TP_DEPENDENCIA_ADM_ESC=None, TP_LOCALIZACAO_ESC=None, TP_SIT_FUNC_ESC=None, CO_MUNICIPIO_PROVA=3121605, NO_MUNICIPIO_PROVA='Diamantina', CO_UF_PROVA=31, SG_UF_PROVA='MG', TP_PRESENCA_CN=0, TP_PRESENCA_CH=0, TP_PRESENCA_LC=0, TP_PRESENCA_MT=0, CO_PROVA_CN=None, CO_PROVA_CH=None, CO_PROVA_LC=None, CO_PROVA_MT=None, NU_NOTA_CN=None, NU_NOTA_CH=None, NU_NOTA_LC=None, NU_NOTA_MT=None, TX_RESPOSTAS_CN=None, TX_RESPOSTAS_CH=None, TX_RESPOSTAS_LC=None, TX_RESPOSTAS_MT=None, TP_LINGUA=1, TX_GABARITO_CN=None, TX_GABARITO_CH=None, TX_GABARITO_LC=None, TX_GABARITO_MT=None, TP_STATUS_REDACAO=None, NU_NOTA_COMP1=None, NU_NOTA_COMP2=None, NU_NOTA_COMP3=None, NU_NOTA_COMP4=None, NU_NOTA_COMP5=None, NU_NOTA_REDACAO=None, Q001='B', Q002='G', Q003='B', Q004='B', Q005=3, Q006='B', Q007='A', Q008='B', Q009='D', Q010='A', Q011='A', Q012='B', Q013='A', Q014='B', Q015='A', Q016='A', Q017='A', Q018='A', Q019='B', Q020='A', Q021='B', Q022='B', Q023='A', Q024='A', Q025='B'),\n",
       " Row(NU_INSCRICAO=200003132410, NU_ANO=2020, TP_FAIXA_ETARIA=3, TP_SEXO='F', TP_ESTADO_CIVIL=1, TP_COR_RACA=3, TP_NACIONALIDADE=1, TP_ST_CONCLUSAO=1, TP_ANO_CONCLUIU=1, TP_ESCOLA=1, TP_ENSINO=None, IN_TREINEIRO=0, CO_MUNICIPIO_ESC=None, NO_MUNICIPIO_ESC=None, CO_UF_ESC=None, SG_UF_ESC=None, TP_DEPENDENCIA_ADM_ESC=None, TP_LOCALIZACAO_ESC=None, TP_SIT_FUNC_ESC=None, CO_MUNICIPIO_PROVA=4305207, NO_MUNICIPIO_PROVA='Cerro Largo', CO_UF_PROVA=43, SG_UF_PROVA='RS', TP_PRESENCA_CN=1, TP_PRESENCA_CH=1, TP_PRESENCA_LC=1, TP_PRESENCA_MT=1, CO_PROVA_CN=598, CO_PROVA_CH=567, CO_PROVA_LC=577, CO_PROVA_MT=588, NU_NOTA_CN=498.1, NU_NOTA_CH=604.7, NU_NOTA_LC=505.4, NU_NOTA_MT=526.7, TX_RESPOSTAS_CN='CABBEEACAEBEBCCDACBEDADDCCBECDCBDADDEBDBDACAB', TX_RESPOSTAS_CH='ACEBBDDCADDAACEEAAEBDBDCCDACCDEDCDACADBBBECDD', TX_RESPOSTAS_LC='99999CBECEBEDBEECEABBADCDDADCADAAECDEBAAADEBADADBC', TX_RESPOSTAS_MT='BADCAAAEEDBEDBACEDBACCDBABDECCDDCCAEAACEDACCB', TP_LINGUA=1, TX_GABARITO_CN='CEDBDDDCACCBDAEBADCBDCDXAAECEDDDECDDCBDDAEDCC', TX_GABARITO_CH='DABCBDDDAEDBECECBBEDEBDEECBCCCBACDCCADEBDECDD', TX_GABARITO_LC='AAEDCACEEECEAACBAEBBEDACDBAADADDEBBEBAAADEACAAADBB', TX_GABARITO_MT='AEBCCXCCCACCDABCCABCABCBAECEDBBDBEEEDBBACCDAC', TP_STATUS_REDACAO=1, NU_NOTA_COMP1=140, NU_NOTA_COMP2=120, NU_NOTA_COMP3=140, NU_NOTA_COMP4=140, NU_NOTA_COMP5=160, NU_NOTA_REDACAO=700, Q001='C', Q002='B', Q003='C', Q004='B', Q005=5, Q006='C', Q007='A', Q008='B', Q009='E', Q010='A', Q011='A', Q012='B', Q013='A', Q014='A', Q015='A', Q016='B', Q017='A', Q018='A', Q019='B', Q020='B', Q021='A', Q022='D', Q023='A', Q024='B', Q025='B'),\n",
       " Row(NU_INSCRICAO=200001379770, NU_ANO=2020, TP_FAIXA_ETARIA=9, TP_SEXO='M', TP_ESTADO_CIVIL=1, TP_COR_RACA=3, TP_NACIONALIDADE=1, TP_ST_CONCLUSAO=1, TP_ANO_CONCLUIU=6, TP_ESCOLA=1, TP_ENSINO=None, IN_TREINEIRO=0, CO_MUNICIPIO_ESC=None, NO_MUNICIPIO_ESC=None, CO_UF_ESC=None, SG_UF_ESC=None, TP_DEPENDENCIA_ADM_ESC=None, TP_LOCALIZACAO_ESC=None, TP_SIT_FUNC_ESC=None, CO_MUNICIPIO_PROVA=2611606, NO_MUNICIPIO_PROVA='Recife', CO_UF_PROVA=26, SG_UF_PROVA='PE', TP_PRESENCA_CN=0, TP_PRESENCA_CH=0, TP_PRESENCA_LC=0, TP_PRESENCA_MT=0, CO_PROVA_CN=None, CO_PROVA_CH=None, CO_PROVA_LC=None, CO_PROVA_MT=None, NU_NOTA_CN=None, NU_NOTA_CH=None, NU_NOTA_LC=None, NU_NOTA_MT=None, TX_RESPOSTAS_CN=None, TX_RESPOSTAS_CH=None, TX_RESPOSTAS_LC=None, TX_RESPOSTAS_MT=None, TP_LINGUA=0, TX_GABARITO_CN=None, TX_GABARITO_CH=None, TX_GABARITO_LC=None, TX_GABARITO_MT=None, TP_STATUS_REDACAO=None, NU_NOTA_COMP1=None, NU_NOTA_COMP2=None, NU_NOTA_COMP3=None, NU_NOTA_COMP4=None, NU_NOTA_COMP5=None, NU_NOTA_REDACAO=None, Q001=None, Q002=None, Q003=None, Q004=None, Q005=None, Q006=None, Q007=None, Q008=None, Q009=None, Q010=None, Q011=None, Q012=None, Q013=None, Q014=None, Q015=None, Q016=None, Q017=None, Q018=None, Q019=None, Q020=None, Q021=None, Q022=None, Q023=None, Q024=None, Q025=None),\n",
       " Row(NU_INSCRICAO=200001334237, NU_ANO=2020, TP_FAIXA_ETARIA=4, TP_SEXO='M', TP_ESTADO_CIVIL=1, TP_COR_RACA=1, TP_NACIONALIDADE=1, TP_ST_CONCLUSAO=1, TP_ANO_CONCLUIU=1, TP_ESCOLA=1, TP_ENSINO=None, IN_TREINEIRO=0, CO_MUNICIPIO_ESC=None, NO_MUNICIPIO_ESC=None, CO_UF_ESC=None, SG_UF_ESC=None, TP_DEPENDENCIA_ADM_ESC=None, TP_LOCALIZACAO_ESC=None, TP_SIT_FUNC_ESC=None, CO_MUNICIPIO_PROVA=3550308, NO_MUNICIPIO_PROVA='São Paulo', CO_UF_PROVA=35, SG_UF_PROVA='SP', TP_PRESENCA_CN=1, TP_PRESENCA_CH=1, TP_PRESENCA_LC=1, TP_PRESENCA_MT=1, CO_PROVA_CN=699, CO_PROVA_CH=687, CO_PROVA_LC=691, CO_PROVA_MT=695, NU_NOTA_CN=604.6, NU_NOTA_CH=604.8, NU_NOTA_LC=562.1, NU_NOTA_MT=753.2, TX_RESPOSTAS_CN='CECACBBCADACADDEEBDBCBAEEEEBDADABDCEEDDCCDCBC', TX_RESPOSTAS_CH='EAADABBEABCADDBAAEDBCABDABAACAEAEEABECBBADEDB', TX_RESPOSTAS_LC='CADDE99999AEEADBAAABEEECEEDADACBDECABEBEADBCCBAAAA', TX_RESPOSTAS_MT='BABADDBDAEBAEBBBEEDEEECBCEBBDACCEABDCCBADDCCE', TP_LINGUA=0, TX_GABARITO_CN='DEAAECBBCDCBAEBEEBDBCCACECCDACDABDDBADDECBEBA', TX_GABARITO_CH='EAAADBBEDBDACDBCCDEBDBBCBBADCAECDBABDBCBADEDB', TX_GABARITO_LC='CADDE99999DEBBBBBAADBECBEACCBECEDAEABEECBDCCADAACA', TX_GABARITO_MT='BABBDABAEEBACBACDEDEEXCACEBBADCBEABADCBADDCCE', TP_STATUS_REDACAO=1, NU_NOTA_COMP1=140, NU_NOTA_COMP2=120, NU_NOTA_COMP3=120, NU_NOTA_COMP4=120, NU_NOTA_COMP5=100, NU_NOTA_REDACAO=600, Q001=None, Q002=None, Q003=None, Q004=None, Q005=None, Q006=None, Q007=None, Q008=None, Q009=None, Q010=None, Q011=None, Q012=None, Q013=None, Q014=None, Q015=None, Q016=None, Q017=None, Q018=None, Q019=None, Q020=None, Q021=None, Q022=None, Q023=None, Q024=None, Q025=None),\n",
       " Row(NU_INSCRICAO=200006762554, NU_ANO=2020, TP_FAIXA_ETARIA=5, TP_SEXO='F', TP_ESTADO_CIVIL=2, TP_COR_RACA=3, TP_NACIONALIDADE=1, TP_ST_CONCLUSAO=1, TP_ANO_CONCLUIU=3, TP_ESCOLA=1, TP_ENSINO=None, IN_TREINEIRO=0, CO_MUNICIPIO_ESC=None, NO_MUNICIPIO_ESC=None, CO_UF_ESC=None, SG_UF_ESC=None, TP_DEPENDENCIA_ADM_ESC=None, TP_LOCALIZACAO_ESC=None, TP_SIT_FUNC_ESC=None, CO_MUNICIPIO_PROVA=2507507, NO_MUNICIPIO_PROVA='João Pessoa', CO_UF_PROVA=25, SG_UF_PROVA='PB', TP_PRESENCA_CN=1, TP_PRESENCA_CH=1, TP_PRESENCA_LC=1, TP_PRESENCA_MT=1, CO_PROVA_CN=598, CO_PROVA_CH=567, CO_PROVA_LC=577, CO_PROVA_MT=588, NU_NOTA_CN=439.7, NU_NOTA_CH=383.5, NU_NOTA_LC=486.2, NU_NOTA_MT=448.5, TX_RESPOSTAS_CN='DABCDCAEDEDCBEDCDACDDAEBDCEECCDCEECDABDABECAC', TX_RESPOSTAS_CH='ECCAEAEACDDABCBDABEADBABACADABACDDEECBACCDAEC', TX_RESPOSTAS_LC='99999DDCBBABECCACCBBCDACCCAAAADDEAADBBAEECEDEAEDBA', TX_RESPOSTAS_MT='EEDCCEACEBAAAADCDCCABCAEBBEBABDDCCABDEADEDECB', TP_LINGUA=1, TX_GABARITO_CN='CEDBDDDCACCBDAEBADCBDCDXAAECEDDDECDDCBDDAEDCC', TX_GABARITO_CH='DABCBDDDAEDBECECBBEDEBDEECBCCCBACDCCADEBDECDD', TX_GABARITO_LC='AAEDCACEEECEAACBAEBBEDACDBAADADDEBBEBAAADEACAAADBB', TX_GABARITO_MT='AEBCCXCCCACCDABCCABCABCBAECEDBBDBEEEDBBACCDAC', TP_STATUS_REDACAO=1, NU_NOTA_COMP1=120, NU_NOTA_COMP2=120, NU_NOTA_COMP3=120, NU_NOTA_COMP4=140, NU_NOTA_COMP5=100, NU_NOTA_REDACAO=600, Q001='B', Q002='C', Q003='C', Q004='B', Q005=2, Q006='B', Q007='A', Q008='B', Q009='C', Q010='A', Q011='A', Q012='B', Q013='A', Q014='B', Q015='A', Q016='A', Q017='A', Q018='A', Q019='B', Q020='A', Q021='A', Q022='C', Q023='A', Q024='A', Q025='A'),\n",
       " Row(NU_INSCRICAO=200005146210, NU_ANO=2020, TP_FAIXA_ETARIA=2, TP_SEXO='M', TP_ESTADO_CIVIL=1, TP_COR_RACA=2, TP_NACIONALIDADE=1, TP_ST_CONCLUSAO=2, TP_ANO_CONCLUIU=0, TP_ESCOLA=2, TP_ENSINO=1, IN_TREINEIRO=0, CO_MUNICIPIO_ESC=None, NO_MUNICIPIO_ESC=None, CO_UF_ESC=None, SG_UF_ESC=None, TP_DEPENDENCIA_ADM_ESC=None, TP_LOCALIZACAO_ESC=None, TP_SIT_FUNC_ESC=None, CO_MUNICIPIO_PROVA=2304400, NO_MUNICIPIO_PROVA='Fortaleza', CO_UF_PROVA=23, SG_UF_PROVA='CE', TP_PRESENCA_CN=0, TP_PRESENCA_CH=0, TP_PRESENCA_LC=0, TP_PRESENCA_MT=0, CO_PROVA_CN=None, CO_PROVA_CH=None, CO_PROVA_LC=None, CO_PROVA_MT=None, NU_NOTA_CN=None, NU_NOTA_CH=None, NU_NOTA_LC=None, NU_NOTA_MT=None, TX_RESPOSTAS_CN=None, TX_RESPOSTAS_CH=None, TX_RESPOSTAS_LC=None, TX_RESPOSTAS_MT=None, TP_LINGUA=0, TX_GABARITO_CN=None, TX_GABARITO_CH=None, TX_GABARITO_LC=None, TX_GABARITO_MT=None, TP_STATUS_REDACAO=None, NU_NOTA_COMP1=None, NU_NOTA_COMP2=None, NU_NOTA_COMP3=None, NU_NOTA_COMP4=None, NU_NOTA_COMP5=None, NU_NOTA_REDACAO=None, Q001='A', Q002='A', Q003='B', Q004='A', Q005=4, Q006='B', Q007='A', Q008='B', Q009='B', Q010='A', Q011='A', Q012='B', Q013='A', Q014='A', Q015='A', Q016='A', Q017='A', Q018='A', Q019='B', Q020='A', Q021='A', Q022='A', Q023='A', Q024='A', Q025='B')]"
      ]
     },
     "execution_count": 23,
     "metadata": {},
     "output_type": "execute_result"
    }
   ],
   "source": [
    "enem.head(10) #TP_COR_RACA"
   ]
  },
  {
   "cell_type": "code",
   "execution_count": 31,
   "id": "c614afa9-d317-4262-bfdd-4172062ae48d",
   "metadata": {},
   "outputs": [
    {
     "name": "stdout",
     "output_type": "stream",
     "text": [
      "+---------------+\n",
      "|TP_ST_CONCLUSAO|\n",
      "+---------------+\n",
      "|              1|\n",
      "|              1|\n",
      "|              2|\n",
      "|              2|\n",
      "|              1|\n",
      "|              1|\n",
      "|              1|\n",
      "|              1|\n",
      "|              1|\n",
      "|              2|\n",
      "|              1|\n",
      "|              1|\n",
      "|              1|\n",
      "|              1|\n",
      "|              1|\n",
      "|              1|\n",
      "|              1|\n",
      "|              1|\n",
      "|              1|\n",
      "|              1|\n",
      "+---------------+\n",
      "only showing top 20 rows\n",
      "\n"
     ]
    }
   ],
   "source": [
    "enem.select(\"TP_ST_CONCLUSAO\").show()"
   ]
  },
  {
   "cell_type": "code",
   "execution_count": 34,
   "id": "c00ec8bf-b5fb-4e07-be2d-ffa5c92e9cdf",
   "metadata": {},
   "outputs": [
    {
     "name": "stderr",
     "output_type": "stream",
     "text": [
      "[Stage 31:=================================================>      (14 + 2) / 16]\r"
     ]
    },
    {
     "name": "stdout",
     "output_type": "stream",
     "text": [
      "+-----------+-------+-------+-----------------+------------------+\n",
      "|TP_COR_RACA|min_mat|max_mat|med_mt           |stddev_mt         |\n",
      "+-----------+-------+-------+-----------------+------------------+\n",
      "|1          |0.0    |975.0  |557.5818172798417|123.18566850175235|\n",
      "+-----------+-------+-------+-----------------+------------------+\n",
      "\n"
     ]
    },
    {
     "name": "stderr",
     "output_type": "stream",
     "text": [
      "                                                                                \r"
     ]
    }
   ],
   "source": [
    "(\n",
    "    enem\n",
    "    .where(\"TP_COR_RACA = '1' OR TP_COR_RACA = '2' AND NO_MUNICIPIO_ESC = 'Belo Horizonte' AND TP_ST_CONCLUSAO = '1'\")\n",
    "    .groupBy('TP_COR_RACA')\n",
    "    .agg(\n",
    "        f.min('NU_NOTA_MT').alias(\"min_mat\"),\n",
    "        f.max('NU_NOTA_MT').alias(\"max_mat\"),\n",
    "        f.mean(\"NU_NOTA_MT\").alias(\"med_mt\"),\n",
    "        f.stddev(\"NU_NOTA_MT\").alias(\"stddev_mt\")\n",
    "    )\n",
    "    .show(truncate=False)\n",
    "\n",
    ")"
   ]
  },
  {
   "cell_type": "markdown",
   "id": "f0313887-f210-4c3f-9710-b6bac1cc2fc5",
   "metadata": {},
   "source": [
    "# Leitura de dados com ddt"
   ]
  },
  {
   "cell_type": "code",
   "execution_count": null,
   "id": "a93c8112-e57c-4f59-a046-415754669a0b",
   "metadata": {},
   "outputs": [],
   "source": [
    "enem = dd.read_csv(\"enem2020/DADOS/MICRODADOS_ENEM_2020.csv\",sep=';',decimal='.',encoding='latin1')"
   ]
  },
  {
   "cell_type": "code",
   "execution_count": null,
   "id": "741b0b65-7fca-45d9-a828-5c6de60a33dd",
   "metadata": {},
   "outputs": [],
   "source": [
    "enem.head(10)"
   ]
  },
  {
   "cell_type": "code",
   "execution_count": null,
   "id": "88f54306-b618-4bb8-9cfe-74f08d127ff8",
   "metadata": {},
   "outputs": [],
   "source": [
    "enem.NU_NOTA_MT.dtype"
   ]
  },
  {
   "cell_type": "code",
   "execution_count": null,
   "id": "ef01d3ff-f447-43d8-9317-a719f6a7c337",
   "metadata": {},
   "outputs": [],
   "source": [
    "enem.groupby(['TP_SEXO','TP_COR_RACA']).agg({\n",
    "    \"NU_NOTA_LC\":\"mean\",\n",
    "    \"NU_NOTA_MT\":\"mean\"\n",
    "}).compute()"
   ]
  }
 ],
 "metadata": {
  "kernelspec": {
   "display_name": "Python 3 (ipykernel)",
   "language": "python",
   "name": "python3"
  },
  "language_info": {
   "codemirror_mode": {
    "name": "ipython",
    "version": 3
   },
   "file_extension": ".py",
   "mimetype": "text/x-python",
   "name": "python",
   "nbconvert_exporter": "python",
   "pygments_lexer": "ipython3",
   "version": "3.9.5"
  }
 },
 "nbformat": 4,
 "nbformat_minor": 5
}
